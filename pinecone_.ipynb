{
 "cells": [
  {
   "cell_type": "code",
   "execution_count": 1,
   "metadata": {},
   "outputs": [
    {
     "name": "stderr",
     "output_type": "stream",
     "text": [
      "/Users/mac/Documents/work/pinecone/.venv/lib/python3.12/site-packages/pinecone/data/index.py:1: TqdmWarning: IProgress not found. Please update jupyter and ipywidgets. See https://ipywidgets.readthedocs.io/en/stable/user_install.html\n",
      "  from tqdm.autonotebook import tqdm\n"
     ]
    }
   ],
   "source": [
    "import os\n",
    "from pinecone import Pinecone, ServerlessSpec\n",
    "from dotenv import load_dotenv\n",
    "\n",
    "load_dotenv()\n",
    "\n",
    "api_key=os.getenv(\"PINECONE_API_KEY\")\n",
    "pc = Pinecone(api_key=api_key)"
   ]
  },
  {
   "cell_type": "code",
   "execution_count": 2,
   "metadata": {},
   "outputs": [],
   "source": [
    "data_job = {\n",
    "    \"id\": 335465,\n",
    "    \"position\": \"APPLICATION DEVELOPER\",\n",
    "    \"agency\": \"OFFICE OF EMERGENCY MANAGEMENT\",\n",
    "    \"internal\": True,\n",
    "    \"internal_id\": 1,\n",
    "    \"title\": \"EMERGENCY PREPAREDNESS SPECIAL\",\n",
    "    \"job_category\": \"Technology, Data & Innovation\",\n",
    "    \"salary_range_from\": 70000,\n",
    "    \"salary_range_to\": 80000,\n",
    "    \"salary_frequency\": \"Annual\",\n",
    "    \"work_location\": \"165 Cadman Plaza East\",\n",
    "    \"work_location_address\": \"165 Cadman Plaza East Brooklyn, NY 11201\",\n",
    "    \"work_location_city\": \"Brooklyn\",\n",
    "    \"division\": \"Technology\",\n",
    "    \"job_description\": 'NYCEM has an exciting opportunity for a motivated scientific software development professional to join the Technology and Strategic Data team at New York City Emergency Management (NYCEM).   Under the supervision of the Director of Application Development, the selected applicant will be an Application Developer (EOC Application Developer) working on a portfolio of data management, business intelligence and situational awareness applications and will work with a team of Information Technology and Geographic Information Systems (GIS) application developers to maintain and enhance existing EOC systems. That team will also work on requirements gathering, developing new applications, supporting deployed systems, maintenance and enhancements of in-house and COTS products. The Application Developer will have to work on multiple projects with competing priorities. In addition, the Application Developer will:   √¢‚Ç¨¬¢\tGather requirements, document specifications and participate in agile development of information management software   √¢‚Ç¨¬¢\tIntegrate citywide data sources using a service-oriented approach to deliver real-time data for analysis and decision-making support √¢‚Ç¨¬¢\tProvide research and advice on strategic software engineering and information management issues √¢‚Ç¨¬¢\tDevelop and maintain n-tier architecture applications for ingest, analysis, reporting, dissemination of data   √¢‚Ç¨¬¢\tBuild and maintain software for migration from legacy applications √¢‚Ç¨¬¢\tSupport MIS, applications development teams and agency users with software deployments √¢‚Ç¨¬¢\tAccept ad hoc rapid application development requests, e.g, custom dashboards  √¢‚Ç¨¬¢\tSupport enterprise application deployments √¢‚Ç¨¬¢\tManage scripts, models, and tools production in an enterprise environment √¢‚Ç¨¬¢\tAssist in the maintenance and updating of in-house EOC applications √¢‚Ç¨¬¢\tEnhance data management capabilities via the automation of tasks and implementation of custom tools  The selected candidate will be assigned to periodic Emergency Operations Center team and will be expected to work non-business hours during emergencies. The selected candidate will also participate in drills and exercises, assist with Ready NY presentations to external groups, and will undertake special projects as assigned\"\t1. A master√¢‚Ç¨‚Ñ¢s degree from an accredited college in emergency management, public administration, urban planning, engineering, economics, political science, the physical sciences or related field and one year of satisfactory full-time professional experience in one or a combination of the following: emergency management, fire, police, or military service, public safety, public health, public administration, urban planning, engineering, or another specialized area to which the appointment is to be made; or  2. A baccalaureate degree from an accredited college and two years of satisfactory full-time professional experience in the areas listed in √¢‚Ç¨≈ì1√¢‚Ç¨¬ù above; or  3. A four-year high school diploma or its educational equivalent approved by a state√¢‚Ç¨‚Ñ¢s  department of education or a recognized accrediting organization and six years of satisfactory full-time professional experience in the areas listed in √¢‚Ç¨≈ì1√¢‚Ç¨¬ù above, at least two years of which must have been in one of those areas, or another specialized area to which the appointment is to be made.\t\"√¢‚Ç¨¬¢\tAbility to write documented, maintainable and extensible code for a variety of application types. √¢‚Ç¨¬¢\tAbility to serve as Technical Lead for a application development team. √¢‚Ç¨¬¢\tAbility to perform code review with other developers. √¢‚Ç¨¬¢\tAbility to perform QA testing. √¢‚Ç¨¬¢\tAdvanced knowledge of Visual Studio and source code version control. √¢‚Ç¨¬¢\tExperience with JQueryUI and Telerik. √¢‚Ç¨¬¢\tExperience with Microsoft .NET and C# and related technologies for web/desktop/mobile applications. √¢‚Ç¨¬¢\tSignificant development experience with MS SQL Server 2008 or later. √¢‚Ç¨¬¢\tExperience with ASP.NET, WCF, WPF, ASP.NET MVC (3.0-5.0). √¢‚Ç¨¬¢\tExperience with LINQ and Entity Framework. √¢‚Ç¨¬¢\tExperience with NHibernate or another ORM. √¢‚Ç¨¬¢\tExperience with CSS2, responsive design, and UI/UX engineering.  √¢‚Ç¨¬¢\tFamiliarity with geospatial data types. √¢‚Ç¨¬¢\tAbility to thrive in agile software development approach √¢‚Ç¨¬¢\tDemonstrated experience working with technical and non-technical staff. √¢‚Ç¨¬¢\tStrong initiative and ability to perform with little supervision. √¢‚Ç¨¬¢\tAbility to identify needs of end users and communicate possible solutions to them. √¢‚Ç¨¬¢\tStrong organizational skills. √¢‚Ç¨¬¢\tAbility to handle multiple projects simultaneously under tight deadlines. √¢‚Ç¨¬¢\tAbility to work in a team environment.\"\tTHIS POSITION IS GRANT FUNDED THROUGH 8/31/2019 WITH THE POSSIBILITY OF AN EXTENSION\tCurrent City Employees: Apply via Employee Self-Service (ESS).  Go to Recruiting Activities > Careers and search Job ID# 335465.  Non-City Employees/External Candidates: Apply via NYC Careers. Go to www.nyc.gov/careers and search Job ID# 335465.  NOTE: ONLY THOSE CANDIDATES UNDER CONSIDERATION WILL BE CONTACTED.\tMONDAY-FRIDAY  9:00AM-5:00PM  The selected candidate will be assigned to periodic Emergency Operations Center team and will be expected to work non-business hours during emergencies. The selected candidate will also participate in drills and exercises, assist with Ready NY presentations to external groups, and will undertake special projects as assigned\t165 Cadman Plaza East Brooklyn, NY 11201\t\tNew York City residency is generally required within 90 days of appointment. However, City Employees in certain titles who have worked for the City for 2 continuous years may also be eligible to reside in Nassau, Suffolk, Putnam, Westchester, Rockland, or Orange County. To determine if the residency requirement applies to you, please discuss with the agency representative at the time of interview'\n",
    "}\n"
   ]
  },
  {
   "cell_type": "code",
   "execution_count": 3,
   "metadata": {},
   "outputs": [
    {
     "name": "stdout",
     "output_type": "stream",
     "text": [
      "creating new index\n"
     ]
    }
   ],
   "source": [
    "index_name = \"applicants\"\n",
    "index_resume = \"applicants_resume\"\n",
    "\n",
    "if not pc.has_index(index_name):\n",
    "    print(\"creating new index\")\n",
    "\n",
    "    pc.create_index(\n",
    "        name=index_name,\n",
    "        dimension=2,\n",
    "        metric=\"cosine\",\n",
    "        spec=ServerlessSpec(\n",
    "            cloud='aws', \n",
    "            region='us-east-1'\n",
    "        ) \n",
    "    ) "
   ]
  },
  {
   "cell_type": "code",
   "execution_count": 4,
   "metadata": {},
   "outputs": [
    {
     "data": {
      "text/plain": [
       "{'ready': True, 'state': 'Ready'}"
      ]
     },
     "execution_count": 4,
     "metadata": {},
     "output_type": "execute_result"
    }
   ],
   "source": [
    "import time\n",
    "\n",
    "while not pc.describe_index(index_name).status[\"ready\"]:\n",
    "    time.sleep(1)\n",
    "\n",
    "index = pc.Index(index_name)\n"
   ]
  }
 ],
 "metadata": {
  "kernelspec": {
   "display_name": ".venv",
   "language": "python",
   "name": "python3"
  },
  "language_info": {
   "codemirror_mode": {
    "name": "ipython",
    "version": 3
   },
   "file_extension": ".py",
   "mimetype": "text/x-python",
   "name": "python",
   "nbconvert_exporter": "python",
   "pygments_lexer": "ipython3",
   "version": "3.12.5"
  }
 },
 "nbformat": 4,
 "nbformat_minor": 2
}
