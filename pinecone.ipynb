{
 "cells": [
  {
   "cell_type": "code",
   "execution_count": 1,
   "metadata": {},
   "outputs": [
    {
     "data": {
      "text/plain": [
       "True"
      ]
     },
     "execution_count": 1,
     "metadata": {},
     "output_type": "execute_result"
    }
   ],
   "source": [
    "import os\n",
    "from dotenv import load_dotenv\n",
    "\n",
    "load_dotenv()\n"
   ]
  },
  {
   "cell_type": "code",
   "execution_count": 2,
   "metadata": {},
   "outputs": [],
   "source": [
    "from langchain_openai import ChatOpenAI\n",
    "\n",
    "openai_api_key = os.getenv(\"OPENAI_API_KEY\")\n",
    "llm = ChatOpenAI(model=\"gpt-4o-mini\", api_key=openai_api_key)"
   ]
  },
  {
   "cell_type": "code",
   "execution_count": 3,
   "metadata": {},
   "outputs": [],
   "source": [
    "from langchain_community.document_loaders import PyPDFLoader\n"
   ]
  },
  {
   "cell_type": "code",
   "execution_count": 4,
   "metadata": {},
   "outputs": [],
   "source": [
    "file_path = (\n",
    "    \"./sample-cv.pdf\"\n",
    ")\n",
    "\n",
    "loader = PyPDFLoader(file_path, extract_images=True)\n",
    "pages = loader.load()"
   ]
  },
  {
   "cell_type": "code",
   "execution_count": 5,
   "metadata": {},
   "outputs": [
    {
     "name": "stdout",
     "output_type": "stream",
     "text": [
      "Loaded 2 pages\n",
      "MUHAMMAD FATHURRAHMAN  \n",
      "East Jakarta 13440 , | (+62)  81280292017 | gazoon3@gmail.com  |  \n",
      "https://www.linkedin.com/in/muhammad -fathurrahmann/  | https://github.com/fathrahh   \n",
      " \n",
      "Informatics students who have more interest in web development,software development,user interface implementation,and \n",
      "problem solving.Currently focusing on increasing knowledge about web tec hnologies,especially javascript.  \n",
      " \n",
      "EDUCATION   \n",
      " \n",
      " \n",
      "UNIVERSITAS PEMBANGUNAN NASIONAL VETERAN JAKARTA  Aug 2019 - Present  \n",
      "Bachelor of Informatics   \n",
      " Major in Computer Science .  \n",
      " Cumulative GPA: 3.70 /4.0. \n",
      " Relevant Coursework: Software Engineering; Web Programming, Mobile Programming, Data Structure and A lgorithm . \n",
      " \n",
      "SMAN 59 JAKARTA  \n",
      "Natural Science  Jun 2016 - Jul 2019  \n",
      " Learned Mathematics, Chemistry, Physics, Human sociology  \n",
      " \n",
      "WORK EXPERIENCE   \n",
      " \n",
      "Freelance Development Team  Feb 2022 – Present  \n",
      "Frontend Developer   \n",
      "● Sliced  UI Design using React.js (Next.js),  Sass, Tailwind CSS, and several library.  \n",
      "● Communicate d with the UI UX team about the design that have been made.  \n",
      "● Fetched  data, and processing the data into a suitable component.  \n",
      "● Visualized  of data received from the API into a chart.  \n",
      "● Create d reusable compon ent using atomic design pattern.  \n",
      " \n",
      "PT. Telkom Indonesia  Jul 2022 – Dec 2022  \n",
      "Developer  Intern  \n",
      "● Develop a data pipeline to retrieve metrics from datadog, then store the data to warehouse using python , Cloud function, \n",
      "Cloud Scheduler,  and Google Big query . \n",
      "● Create dashboard using Google d ata studio . \n",
      "● Working on building  dashboard  web using ReactJs, Typescript , Graphql , and Material UI.  \n",
      "● Create story book for component have been created.  \n",
      "● Fetching data using graphql query from hasura using urql.  \n",
      "● Slicing UI design from figma . \n",
      " \n",
      "PROJECTS   \n",
      " \n",
      " \n",
      "TIKTOK GUESSING AND RACING GAME  April 2022  \n",
      "● Setup node.js server.  \n",
      "● Implement ed Socket.io as a proxy between the frontend and the tiktok livestream . \n",
      "● Create d racing game using p5.js .  \n",
      " \n",
      "SKILL   \n",
      " \n",
      " \n",
      "Technical Skills : HTML, CSS, Sass, Tailwind CSS, JavaScript, Typescript,  Node.js, Express.js, React.js,  Next.js, SQL.  \n",
      "Other Technology Tools : Scss, Tailwind CSS, Material U I, git, Chart.js,  Redux , Cloud function, Cloud Scheduler, Big query .  \n",
      " \n",
      "CERTIFICATIONS  \n",
      " \n",
      " \n",
      "React (Basic)  Jan 2022  \n",
      "Issued by HackerRank  \n",
      "Credential ID 3c02944a9b41  \n",
      " \n",
      "JavaScript (intermediate)  Mei 2022 \n",
      "Issued by HackerRank  \n",
      "Credential ID 797a3c48988e  \n",
      " \n"
     ]
    }
   ],
   "source": [
    "print(f\"Loaded {len(pages)} pages\")\n",
    "\n",
    "for page in pages:\n",
    "    print(page.page_content)"
   ]
  },
  {
   "cell_type": "code",
   "execution_count": 6,
   "metadata": {},
   "outputs": [],
   "source": [
    "example_question = {\n",
    "    \"1\": \"What is your name?\",\n",
    "    \"2\": \"What is your email address?\",\n",
    "    \"3\": \"What is your phone number?\",\n",
    "    \"4\": \"Do you have any work experience?\",\n",
    "    \"5\": \"Do you have any experience utilizing python?\",\n",
    "    \"6\": \"What is job experience and what did you do?\",\n",
    "    \"7\": \"Did you have any experiece with machine learning? if so, what did you do?\",\n",
    "    \"8\": \"Did you have cat or dog?\",\n",
    "}"
   ]
  },
  {
   "cell_type": "code",
   "execution_count": 7,
   "metadata": {},
   "outputs": [],
   "source": [
    "from langchain.output_parsers.json import SimpleJsonOutputParser\n",
    "from langchain_core.prompts import PromptTemplate\n",
    "\n",
    "prompt = PromptTemplate.from_template(\"\"\"Read the following text and answer the question, if you don't know the answer, just fill null. Returning a JSON object with an key for each question and the answer as the value. text: {text}.question: {question}\"\"\")\n",
    "json_parser = SimpleJsonOutputParser()\n",
    "\n",
    "json_chain = prompt | llm | json_parser"
   ]
  },
  {
   "cell_type": "code",
   "execution_count": 9,
   "metadata": {},
   "outputs": [
    {
     "name": "stdout",
     "output_type": "stream",
     "text": [
      "{'1': 'MUHAMMAD FATHURRAHMAN', '2': 'gazoon3@gmail.com', '3': '(+62) 81280292017', '4': 'Yes', '5': 'Yes', '6': 'Freelance Development Team (Frontend Developer) - Sliced UI Design using React.js, communicated with UI UX team, fetched data, visualized data into charts, created reusable components. PT. Telkom Indonesia (Developer Intern) - Developed a data pipeline using Python, created dashboards, worked on building web dashboard using ReactJs, Typescript, Graphql.', '7': 'null', '8': 'null'}\n"
     ]
    }
   ],
   "source": [
    "result = json_chain.invoke({\n",
    "    \"text\": list(map(lambda x: x.page_content, pages)),\n",
    "    \"question\": example_question\n",
    "})\n",
    "\n",
    "print(result)"
   ]
  }
 ],
 "metadata": {
  "kernelspec": {
   "display_name": ".venv",
   "language": "python",
   "name": "python3"
  },
  "language_info": {
   "codemirror_mode": {
    "name": "ipython",
    "version": 3
   },
   "file_extension": ".py",
   "mimetype": "text/x-python",
   "name": "python",
   "nbconvert_exporter": "python",
   "pygments_lexer": "ipython3",
   "version": "3.12.5"
  }
 },
 "nbformat": 4,
 "nbformat_minor": 2
}
